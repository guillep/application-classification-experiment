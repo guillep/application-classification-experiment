{
 "cells": [
  {
   "cell_type": "code",
   "execution_count": 5,
   "metadata": {
    "ExecuteTime": {
     "end_time": "2024-03-13T21:46:53.548899Z",
     "start_time": "2024-03-13T21:46:53.463728Z"
    }
   },
   "outputs": [
    {
     "name": "stdout",
     "output_type": "stream",
     "text": [
      "The autoreload extension is already loaded. To reload it, use:\n",
      "  %reload_ext autoreload\n"
     ]
    }
   ],
   "source": [
    "# To force reloading. Useful when editing python files\n",
    "%load_ext autoreload\n",
    "%autoreload 2\n",
    "%reload_ext autoreload\n",
    "\n",
    "from processor_new import *\n",
    "import seaborn as sns\n",
    "import numpy as np\n",
    "import matplotlib.pyplot as plt\n",
    "import matplotlib.gridspec as gridspec\n",
    "from plotting_moose import *\n",
    "import math"
   ]
  },
  {
   "cell_type": "code",
   "execution_count": 2,
   "metadata": {
    "ExecuteTime": {
     "end_time": "2024-03-13T21:44:10.420934Z",
     "start_time": "2024-03-13T21:41:41.590571Z"
    }
   },
   "outputs": [],
   "source": [
    "# Load profiler baseline\n",
    "base_path = '/Users/sebastian/Documents/PharoImages/illi-df-hg-clean/profiler-data/remobidyc/baseline/'\n",
    "\n",
    "# Load sampling 0.1%\n",
    "path = base_path + '0dot001'\n",
    "remobi_01, metadata_remobi01 = load_df(path)\n",
    "\n",
    "# Load sampling 1%\n",
    "path = base_path + '0dot01'\n",
    "remobi_1, metadata_remobi1 = load_df(path)\n",
    "\n",
    "# Load sampling 50%\n",
    "path = base_path + '0dot5'\n",
    "remobi_50, metadata_remobi50 = load_df(path)\n",
    "\n",
    "# Load sampling 100%\n",
    "path = base_path + '1'\n",
    "remobi_100, metadata_remobi100 = load_df(path)\n"
   ]
  },
  {
   "cell_type": "code",
   "execution_count": 20,
   "metadata": {},
   "outputs": [
    {
     "name": "stdout",
     "output_type": "stream",
     "text": [
      "2.53 $\\times$\n",
      "1.75 $\\times$\n",
      "1.01 $\\times$\n",
      "1.001 $\\times$\n"
     ]
    }
   ],
   "source": [
    "ephemeron_size = 80\n",
    "\n",
    "baseline_overhead = remobi_100['sizeInBytes'].sum()\n",
    "# add overhead according to the sampling rate\n",
    "zero_one = baseline_overhead + (remobi_01.shape[0] * ephemeron_size)\n",
    "one = baseline_overhead + (remobi_1.shape[0] * ephemeron_size)\n",
    "fifty = baseline_overhead + (remobi_50.shape[0] * ephemeron_size)\n",
    "one_hundred = baseline_overhead + (remobi_100.shape[0] * ephemeron_size)\n",
    "\n",
    "# make relative\n",
    "zero_one = zero_one / baseline_overhead\n",
    "one = one / baseline_overhead\n",
    "fifty = fifty / baseline_overhead\n",
    "one_hundred = one_hundred / baseline_overhead\n",
    "\n",
    "# round\n",
    "zero_one = round(zero_one, 3)\n",
    "one = round(one, 2)\n",
    "fifty = round(fifty, 2)\n",
    "one_hundred = round(one_hundred, 2)\n",
    "\n",
    "print(one_hundred, '$\\\\times$')\n",
    "print(fifty,  '$\\\\times$')\n",
    "print(one,  '$\\\\times$')\n",
    "print(zero_one,  '$\\\\times$')"
   ]
  },
  {
   "cell_type": "code",
   "execution_count": 9,
   "metadata": {},
   "outputs": [
    {
     "name": "stdout",
     "output_type": "stream",
     "text": [
      "\n",
      "\n",
      "Sampling rate: 0.5\n",
      "Total instances:  46020808\n",
      "Total execution time: 63.561786\n",
      "Total full GCs:  7\n",
      "Total scavenges:  4535\n",
      "Total allocated memory:  2.2425242513418198  GiB\n",
      "----------\n",
      "Allocated object class          Instances    Avg lifetime    Avg GC cycles    Avg Scavenges    Allocated memory\n",
      "------------------------------  -----------  --------------  ---------------  ---------------  ------------------\n",
      "Array                           28.66%       0.04%           0.06%            0.07%            53.25%\n",
      "Association                     20.19%       1.6%            2.35%            1.52%            9.26%\n",
      "Dictionary                      14.91%       0.04%           0.04%            0.07%            6.84%\n",
      "RMDFishmanMooreRandomGenerator  7.42%        0.01%           0.02%            0.04%            2.27%\n",
      "RMDActionContext                7.42%        0.01%           0.02%            0.04%            15.88%\n",
      "OrderedCollection               6.14%        0.02%           0.05%            0.05%            3.76%\n",
      "ExceptionSet                    6.13%        0.01%           0.02%            0.04%            1.88%\n",
      "Fraction                        3.61%        0.02%           0.02%            0.04%            1.66%\n",
      "RMDObserverContext              2.77%        0.01%           0.03%            0.04%            1.27%\n",
      "Rectangle                       1.43%        0.18%           0.23%            0.19%            0.65%\n",
      "Margin                          0.42%        0.03%           0.02%            0.05%            0.32%\n",
      "Set                             0.36%        0.15%           0.2%             0.17%            0.17%\n",
      "\n"
     ]
    }
   ],
   "source": [
    "print_table_allocations_average_lifetimes2('', remobi_50, metadata_remobi50)"
   ]
  },
  {
   "cell_type": "code",
   "execution_count": 4,
   "metadata": {},
   "outputs": [
    {
     "name": "stdout",
     "output_type": "stream",
     "text": [
      "Overall avg lifetime for 100% Sampling:  0.502118355559663\n",
      "Overall avg lifetime for 50% Sampling:  0.36113456459322285\n",
      "Overall avg lifetime for 1% Sampling:  0.4645628390188241\n",
      "Overall avg lifetime for 0.1% Sampling:  0.18344821712698553\n"
     ]
    }
   ],
   "source": [
    "print('Overall avg lifetime for 100% Sampling: ', str(remobi_100['relativeLifetime'].mean()))\n",
    "print('Overall avg lifetime for 50% Sampling: ', str(remobi_50['relativeLifetime'].mean()))\n",
    "print('Overall avg lifetime for 1% Sampling: ', str(remobi_1['relativeLifetime'].mean()))\n",
    "print('Overall avg lifetime for 0.1% Sampling: ', str(remobi_01['relativeLifetime'].mean()))"
   ]
  },
  {
   "cell_type": "code",
   "execution_count": 7,
   "metadata": {},
   "outputs": [],
   "source": [
    "# Load profiler actionable\n",
    "base_path = '/Users/sebastian/Documents/PharoImages/illi-df-hg-clean/profiler-data/remobidyc/actionable/'\n",
    "\n",
    "# Load sampling 0.1%\n",
    "path = base_path + '0dot001'\n",
    "remobi_01_a, metadata_remobi01_a = load_df(path)\n",
    "\n",
    "# Load sampling 1%\n",
    "path = base_path + '0dot01'\n",
    "remobi_1_a, metadata_remobi1_a = load_df(path)\n",
    "\n",
    "# Load sampling 50%\n",
    "path = base_path + '0dot5'\n",
    "remobi_50_a, metadata_remobi50_a = load_df(path)\n",
    "\n",
    "# Load sampling 100%\n",
    "path = base_path + '1'\n",
    "remobi_100_a, metadata_remobi100_a = load_df(path)\n"
   ]
  },
  {
   "cell_type": "code",
   "execution_count": 8,
   "metadata": {},
   "outputs": [
    {
     "name": "stdout",
     "output_type": "stream",
     "text": [
      "Overall avg actionable lifetimes for 100% Sampling:  35.09177724301094\n",
      "Overall avg actionable lifetimes for 50% Sampling:  32.2698568335171\n",
      "Overall avg actionable lifetimes for 1% Sampling:  24.30613742809576\n",
      "Overall avg actionable lifetimes for 0.1% Sampling:  23.0706827527308\n"
     ]
    }
   ],
   "source": [
    "print('Overall avg actionable lifetimes for 100% Sampling: ', str(remobi_100_a['relativeLifetime'].mean()))\n",
    "print('Overall avg actionable lifetimes for 50% Sampling: ', str(remobi_50_a['relativeLifetime'].mean()))\n",
    "print('Overall avg actionable lifetimes for 1% Sampling: ', str(remobi_1_a['relativeLifetime'].mean()))\n",
    "print('Overall avg actionable lifetimes for 0.1% Sampling: ', str(remobi_01_a['relativeLifetime'].mean()))"
   ]
  }
 ],
 "metadata": {
  "kernelspec": {
   "display_name": "Python 3 (ipykernel)",
   "language": "python",
   "name": "python3"
  },
  "language_info": {
   "codemirror_mode": {
    "name": "ipython",
    "version": 3
   },
   "file_extension": ".py",
   "mimetype": "text/x-python",
   "name": "python",
   "nbconvert_exporter": "python",
   "pygments_lexer": "ipython3",
   "version": "3.11.4"
  }
 },
 "nbformat": 4,
 "nbformat_minor": 4
}
