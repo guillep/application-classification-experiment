{
 "cells": [
  {
   "cell_type": "code",
   "execution_count": 28,
   "metadata": {},
   "outputs": [
    {
     "name": "stdout",
     "output_type": "stream",
     "text": [
      "The autoreload extension is already loaded. To reload it, use:\n",
      "  %reload_ext autoreload\n"
     ]
    }
   ],
   "source": [
    "# To force reloading. Useful when editing python files\n",
    "%load_ext autoreload\n",
    "%autoreload 2\n",
    "%reload_ext autoreload\n",
    "\n",
    "from processor_new import *\n",
    "import seaborn as sns\n",
    "import numpy as np\n",
    "import matplotlib.pyplot as plt\n",
    "import matplotlib.gridspec as gridspec"
   ]
  },
  {
   "cell_type": "code",
   "execution_count": 11,
   "metadata": {},
   "outputs": [],
   "source": [
    "# Load profiler baseline\n",
    "base_path = '/Users/sebastian/Documents/PharoImages/illi-df-hg-clean/profiler-data/df/baseline/'\n",
    "\n",
    "# Load sampling 0.1%\n",
    "path = base_path + '0dot001'\n",
    "df_01, metadata_df01 = load_df(path)\n",
    "\n",
    "# Load sampling 1%\n",
    "path = base_path + '0dot01'\n",
    "df_1, metadata_df1 = load_df(path)\n",
    "\n",
    "# Load sampling 50%\n",
    "path = base_path + '0dot5'\n",
    "df_50, metadata_df50 = load_df(path)\n",
    "\n",
    "# Load sampling 100%\n",
    "path = base_path + '1'\n",
    "df_100, metadata_df100 = load_df(path)\n",
    "\n",
    "# most allocated classes\n",
    "top_allocated_classes = get_top_allocated_classes(df_01)"
   ]
  },
  {
   "cell_type": "code",
   "execution_count": 1,
   "metadata": {},
   "outputs": [
    {
     "ename": "NameError",
     "evalue": "name 'print_table_allocations_average_lifetimes' is not defined",
     "output_type": "error",
     "traceback": [
      "\u001b[0;31m---------------------------------------------------------------------------\u001b[0m",
      "\u001b[0;31mNameError\u001b[0m                                 Traceback (most recent call last)",
      "\u001b[1;32m/Users/sebastian/Documents/Git-Clones/application-classification-experiment/python/overheads.ipynb Cell 3\u001b[0m line \u001b[0;36m1\n\u001b[0;32m----> <a href='vscode-notebook-cell:/Users/sebastian/Documents/Git-Clones/application-classification-experiment/python/overheads.ipynb#W2sZmlsZQ%3D%3D?line=0'>1</a>\u001b[0m print_table_allocations_average_lifetimes(\u001b[39m'\u001b[39m\u001b[39mDF\u001b[39m\u001b[39m'\u001b[39m, df_100, metadata_df100)\n",
      "\u001b[0;31mNameError\u001b[0m: name 'print_table_allocations_average_lifetimes' is not defined"
     ]
    }
   ],
   "source": [
    "print_table_allocations_average_lifetimes('DF', df_100, metadata_df100)"
   ]
  },
  {
   "cell_type": "markdown",
   "metadata": {},
   "source": [
    "# Benchmarks "
   ]
  },
  {
   "cell_type": "code",
   "execution_count": 24,
   "metadata": {},
   "outputs": [
    {
     "name": "stdout",
     "output_type": "stream",
     "text": [
      "Sampling rate 1/1000. Median: 61140.0 Mean: 61130.0\n",
      "Sampling rate 1/100. Median: 58720.0 Mean: 58750.0\n",
      "Sampling rate 1/2. Median: 89520.0 Mean: 89673.0\n",
      "Sampling rate 1. Median: 125175.0 Mean: 125142.0\n",
      "No action profiler. Median: 56410.0 Mean: 56417.666666666664\n",
      "Baseline DF. Median: 54475.0 Mean: 54493.666666666664\n",
      "\n",
      "Overhead for 1/1000: 1.1217817361038898\n",
      "Overhead for 1/100: 1.078106935974211\n",
      "Overhead for 1/2: 1.6455673748019648\n",
      "Overhead for 1: 2.296450352028676\n"
     ]
    }
   ],
   "source": [
    "illi_bench_df = pd.read_csv('/Users/sebastian/Documents/PharoImages/illi-df-hg-clean/profiler-data/illiDFPlusHG.csv', comment='#', sep ='\\t')\n",
    "\n",
    "# Profiler median values\n",
    "illi_input_01_df = illi_bench_df[ (illi_bench_df['suite'] == 'IllBenchmark') & (illi_bench_df['inputSize'] == '1/1000') & (illi_bench_df['criterion'] == 'total') ]\n",
    "illi_median_01 = illi_input_01_df['value'].median()\n",
    "illi_mean_01 = illi_input_01_df['value'].mean()\n",
    "\n",
    "illi_input_1_df = illi_bench_df[ (illi_bench_df['suite'] == 'IllBenchmark') & (illi_bench_df['inputSize'] == '1/100') & (illi_bench_df['criterion'] == 'total') ]\n",
    "illi_median_1 = illi_input_1_df['value'].median()\n",
    "illi_mean_1 = illi_input_1_df['value'].mean()\n",
    "\n",
    "illi_input_50_df = illi_bench_df[ (illi_bench_df['suite'] == 'IllBenchmark') & (illi_bench_df['inputSize'] == '1/2') & (illi_bench_df['criterion'] == 'total') ]\n",
    "illi_median_50 = illi_input_50_df['value'].median()\n",
    "illi_mean_50 = illi_input_50_df['value'].mean()\n",
    "\n",
    "illi_input_100_df = illi_bench_df[ (illi_bench_df['suite'] == 'IllBenchmark') & (illi_bench_df['inputSize'] == '1') & (illi_bench_df['criterion'] == 'total') ]\n",
    "illi_median_100 = illi_input_100_df['value'].median()\n",
    "illi_mean_100 = illi_input_100_df['value'].mean()\n",
    "\n",
    "# no action profiler \n",
    "no_action_df = illi_bench_df[ (illi_bench_df['suite'] == 'IllBenchmarkNoAction') & (illi_bench_df['criterion'] == 'total') ]\n",
    "no_action_median = no_action_df['value'].median()\n",
    "no_action_mean = no_action_df['value'].mean()\n",
    "\n",
    "# baseline\n",
    "baseline_df = illi_bench_df[ (illi_bench_df['suite'] == 'BaselineBenchmark') & (illi_bench_df['criterion'] == 'total') ]\n",
    "baseline_median = baseline_df['value'].median()\n",
    "baseline_mean = baseline_df['value'].mean()\n",
    "\n",
    "\n",
    "\n",
    "print('Sampling rate 1/1000. Median: ' + str(illi_median_01) + ' Mean: ' + str(illi_mean_01))\n",
    "print('Sampling rate 1/100. Median: ' + str(illi_median_1) + ' Mean: ' + str(illi_mean_1))\n",
    "print('Sampling rate 1/2. Median: ' + str(illi_median_50) + ' Mean: ' + str(illi_mean_50))\n",
    "print('Sampling rate 1. Median: ' + str(illi_median_100) + ' Mean: ' + str(illi_mean_100))\n",
    "\n",
    "print('No action profiler. Median: ' + str(no_action_median) + ' Mean: ' + str(no_action_mean))\n",
    "print('Baseline DF. Median: ' + str(baseline_median) + ' Mean: ' + str(baseline_mean))\n",
    "\n",
    "# overhead using mean\n",
    "print()\n",
    "print('Overhead for 1/1000: ' + str(illi_mean_01 / baseline_mean))\n",
    "print('Overhead for 1/100: ' + str(illi_mean_1  / baseline_mean))\n",
    "print('Overhead for 1/2: ' + str(illi_mean_50  / baseline_mean))\n",
    "print('Overhead for 1: ' +  str(illi_mean_100  / baseline_mean))\n"
   ]
  }
 ],
 "metadata": {
  "kernelspec": {
   "display_name": "Python 3 (ipykernel)",
   "language": "python",
   "name": "python3"
  },
  "language_info": {
   "codemirror_mode": {
    "name": "ipython",
    "version": 3
   },
   "file_extension": ".py",
   "mimetype": "text/x-python",
   "name": "python",
   "nbconvert_exporter": "python",
   "pygments_lexer": "ipython3",
   "version": "3.11.4"
  }
 },
 "nbformat": 4,
 "nbformat_minor": 2
}
