{
 "cells": [
  {
   "cell_type": "code",
   "execution_count": 1,
   "metadata": {},
   "outputs": [],
   "source": [
    "# To force reloading. Useful when editing python files\n",
    "%load_ext autoreload\n",
    "%autoreload 2\n",
    "%reload_ext autoreload\n",
    "\n",
    "from processor_new import *\n",
    "import seaborn as sns\n",
    "import numpy as np\n",
    "import matplotlib.pyplot as plt\n",
    "import matplotlib.gridspec as gridspec"
   ]
  },
  {
   "cell_type": "markdown",
   "metadata": {},
   "source": [
    "# Benchmarks "
   ]
  },
  {
   "cell_type": "markdown",
   "metadata": {},
   "source": [
    "# DataFrame"
   ]
  },
  {
   "cell_type": "code",
   "execution_count": 14,
   "metadata": {},
   "outputs": [
    {
     "name": "stdout",
     "output_type": "stream",
     "text": [
      "\n",
      "Overhead for 1/1000: 1.1217817361038898\n",
      "Std for 1/1000: 0.001058019049360465\n",
      "Overhead for 1/100: 1.078106935974211\n",
      "Std for 1/100: 0.0014107835236937742\n",
      "Overhead for 1/2: 1.6455673748019648\n",
      "Std for 1/2: 0.012204825322310237\n",
      "Overhead for 1: 2.296450352028676\n",
      "Std for 1: 0.03147629821347439\n"
     ]
    }
   ],
   "source": [
    "illi_bench = pd.read_csv('/Users/sebastian/Documents/PharoImages/illi-df-hg-clean/profiler-data/illiDFPlusHG.csv', comment='#', sep ='\\t')\n",
    "\n",
    "# Profiler median values\n",
    "illi_input_01_df = illi_bench[ (illi_bench['suite'] == 'IllBenchmark') & (illi_bench['inputSize'] == '1/1000') & (illi_bench['criterion'] == 'total') ]\n",
    "illi_mean_01 = illi_input_01_df['value'].mean()\n",
    "illi_std_01 = illi_input_01_df['value'].std()\n",
    "\n",
    "illi_input_1_df = illi_bench[ (illi_bench['suite'] == 'IllBenchmark') & (illi_bench['inputSize'] == '1/100') & (illi_bench['criterion'] == 'total') ]\n",
    "illi_mean_1 = illi_input_1_df['value'].mean()\n",
    "illi_std_1 = illi_input_1_df['value'].std()\n",
    "\n",
    "illi_input_50_df = illi_bench[ (illi_bench['suite'] == 'IllBenchmark') & (illi_bench['inputSize'] == '1/2') & (illi_bench['criterion'] == 'total') ]\n",
    "illi_mean_50 = illi_input_50_df['value'].mean()\n",
    "illi_std_50 = illi_input_50_df['value'].std()\n",
    "\n",
    "illi_input_100_df = illi_bench[ (illi_bench['suite'] == 'IllBenchmark') & (illi_bench['inputSize'] == '1') & (illi_bench['criterion'] == 'total') ]\n",
    "illi_mean_100 = illi_input_100_df['value'].mean()\n",
    "illi_std_100 = illi_input_100_df['value'].std()\n",
    "\n",
    "# baseline\n",
    "baseline_hg = illi_bench[ (illi_bench['suite'] == 'BaselineBenchmark') & (illi_bench['criterion'] == 'total') ]\n",
    "baseline_mean = baseline_hg['value'].mean()\n",
    "baseline_std = baseline_hg['value'].std()\n",
    "\n",
    "\n",
    "# overhead using mean\n",
    "print()\n",
    "print('Overhead for 1/1000: ' + str(illi_mean_01 / baseline_mean))\n",
    "print('Std for 1/1000: ' + str(illi_std_01 / baseline_mean))\n",
    "print('Overhead for 1/100: ' + str(illi_mean_1  / baseline_mean))\n",
    "print('Std for 1/100: ' + str(illi_std_1 / baseline_mean))\n",
    "print('Overhead for 1/2: ' + str(illi_mean_50  / baseline_mean))\n",
    "print('Std for 1/2: ' + str(illi_std_50 / baseline_mean))\n",
    "print('Overhead for 1: ' +  str(illi_mean_100  / baseline_mean))\n",
    "print('Std for 1: ' + str(illi_std_100 / baseline_mean))\n"
   ]
  },
  {
   "cell_type": "code",
   "execution_count": 3,
   "metadata": {},
   "outputs": [],
   "source": [
    "illi_bench_hg = pd.read_csv('/Users/sebastian/Documents/PharoImages/illi-df-hg-clean/profiler-data/illiDFPlusHG.csv', comment='#', sep ='\\t')\n",
    "\n",
    "\n",
    "# Profiler median values\n",
    "illi_input_01_hg = illi_bench_hg[ (illi_bench_hg['suite'] == 'IllBenchmark') & (illi_bench_hg['inputSize'] == '1/1000') & (illi_bench_hg['criterion'] == 'total') ]\n",
    "illi_median_01 = illi_input_01_hg['value'].median()\n",
    "illi_mean_01 = illi_input_01_hg['value'].mean()\n",
    "\n",
    "illi_input_1_hg = illi_bench_hg[ (illi_bench_hg['suite'] == 'IllBenchmark') & (illi_bench_hg['inputSize'] == '1/100') & (illi_bench_hg['criterion'] == 'total') ]\n",
    "illi_median_1 = illi_input_1_hg['value'].median()\n",
    "illi_mean_1 = illi_input_1_hg['value'].mean()\n",
    "\n",
    "illi_input_50_hg = illi_bench_hg[ (illi_bench_hg['suite'] == 'IllBenchmark') & (illi_bench_hg['inputSize'] == '1/2') & (illi_bench_hg['criterion'] == 'total') ]\n",
    "illi_median_50 = illi_input_50_hg['value'].median()\n",
    "illi_mean_50 = illi_input_50_hg['value'].mean()\n",
    "\n",
    "illi_input_100_hg = illi_bench_hg[ (illi_bench_hg['suite'] == 'IllBenchmark') & (illi_bench_hg['inputSize'] == '1') & (illi_bench_hg['criterion'] == 'total') ]\n",
    "illi_median_100 = illi_input_100_hg['value'].median()\n",
    "illi_mean_100 = illi_input_100_hg['value'].mean()\n",
    "\n",
    "# no action profiler \n",
    "no_action_hg = illi_bench_hg[ (illi_bench_hg['suite'] == 'IllBenchmarkNoAction') & (illi_bench_hg['criterion'] == 'total') ]\n",
    "no_action_median = no_action_hg['value'].median()\n",
    "no_action_mean = no_action_hg['value'].mean()\n",
    "\n",
    "# baseline\n",
    "baseline_hg = illi_bench_hg[ (illi_bench_hg['suite'] == 'BaselineBenchmark') & (illi_bench_hg['criterion'] == 'total') ]\n",
    "baseline_median = baseline_hg['value'].median()\n",
    "baseline_mean = baseline_hg['value'].mean()\n"
   ]
  },
  {
   "cell_type": "code",
   "execution_count": 8,
   "metadata": {},
   "outputs": [
    {
     "data": {
      "text/plain": [
       "<Axes: ylabel='value'>"
      ]
     },
     "execution_count": 8,
     "metadata": {},
     "output_type": "execute_result"
    },
    {
     "data": {
      "image/png": "[encoded data removed]",
      "text/plain": [
       "<Figure size 640x480 with 1 Axes>"
      ]
     },
     "metadata": {},
     "output_type": "display_data"
    }
   ],
   "source": [
    "sns.boxplot(illi_input_100_hg['value'])"
   ]
  },
  {
   "cell_type": "markdown",
   "metadata": {},
   "source": [
    "# Honey Ginger"
   ]
  },
  {
   "cell_type": "code",
   "execution_count": 3,
   "metadata": {},
   "outputs": [
    {
     "name": "stdout",
     "output_type": "stream",
     "text": [
      "Sampling rate 1/1000. Median: 43280.0 Mean: 43272.666666666664\n",
      "Sampling rate 1/100. Median: 53390.0 Mean: 53286.0\n",
      "Sampling rate 1/2. Median: 59340.0 Mean: 58979.333333333336\n",
      "Sampling rate 1. Median: 74990.0 Mean: 75586.33333333333\n",
      "Baseline HG. Median: 23740.0 Mean: 23659.0\n",
      "\n",
      "Overhead for 1/1000: 1.8290150330388717\n",
      "Overhead for 1/100: 2.25225072910943\n",
      "Overhead for 1/2: 2.492892063626245\n",
      "Overhead for 1: 3.1948236752750887\n"
     ]
    }
   ],
   "source": [
    "illi_bench_hg = pd.read_csv('/Users/sebastian/Documents/PharoImages/illi-df-hg-clean/profiler-data/illiDFPlusHG.csv', comment='#', sep ='\\t')\n",
    "\n",
    "# Profiler median values\n",
    "illi_input_01_hg = illi_bench_hg[ (illi_bench_hg['suite'] == 'IllBenchmarkHG') & (illi_bench_hg['inputSize'] == '1/1000') & (illi_bench_hg['criterion'] == 'total') ]\n",
    "illi_median_01 = illi_input_01_hg['value'].median()\n",
    "illi_mean_01 = illi_input_01_hg['value'].mean()\n",
    "\n",
    "illi_input_1_hg = illi_bench_hg[ (illi_bench_hg['suite'] == 'IllBenchmarkHG') & (illi_bench_hg['inputSize'] == '1/100') & (illi_bench_hg['criterion'] == 'total') ]\n",
    "illi_median_1 = illi_input_1_hg['value'].median()\n",
    "illi_mean_1 = illi_input_1_hg['value'].mean()\n",
    "\n",
    "illi_input_50_hg = illi_bench_hg[ (illi_bench_hg['suite'] == 'IllBenchmarkHG') & (illi_bench_hg['inputSize'] == '1/2') & (illi_bench_hg['criterion'] == 'total') ]\n",
    "illi_median_50 = illi_input_50_hg['value'].median()\n",
    "illi_mean_50 = illi_input_50_hg['value'].mean()\n",
    "\n",
    "illi_input_100_hg = illi_bench_hg[ (illi_bench_hg['suite'] == 'IllBenchmarkHG') & (illi_bench_hg['inputSize'] == '1') & (illi_bench_hg['criterion'] == 'total') ]\n",
    "illi_median_100 = illi_input_100_hg['value'].median()\n",
    "illi_mean_100 = illi_input_100_hg['value'].mean()\n",
    "\n",
    "# baseline\n",
    "baseline_hg = illi_bench_hg[ (illi_bench_hg['suite'] == 'BaselineBenchmarkHG') & (illi_bench_hg['criterion'] == 'total') ]\n",
    "baseline_median = baseline_hg['value'].median()\n",
    "baseline_mean = baseline_hg['value'].mean()\n",
    "\n",
    "\n",
    "\n",
    "print('Sampling rate 1/1000. Median: ' + str(illi_median_01) + ' Mean: ' + str(illi_mean_01))\n",
    "print('Sampling rate 1/100. Median: ' + str(illi_median_1) + ' Mean: ' + str(illi_mean_1))\n",
    "print('Sampling rate 1/2. Median: ' + str(illi_median_50) + ' Mean: ' + str(illi_mean_50))\n",
    "print('Sampling rate 1. Median: ' + str(illi_median_100) + ' Mean: ' + str(illi_mean_100))\n",
    "\n",
    "print('Baseline HG. Median: ' + str(baseline_median) + ' Mean: ' + str(baseline_mean))\n",
    "\n",
    "# overhead using mean\n",
    "print()\n",
    "print('Overhead for 1/1000: ' + str(illi_mean_01 / baseline_mean))\n",
    "print('Overhead for 1/100: ' + str(illi_mean_1  / baseline_mean))\n",
    "print('Overhead for 1/2: ' + str(illi_mean_50  / baseline_mean))\n",
    "print('Overhead for 1: ' +  str(illi_mean_100  / baseline_mean))\n"
   ]
  }
 ],
 "metadata": {
  "kernelspec": {
   "display_name": "Python 3 (ipykernel)",
   "language": "python",
   "name": "python3"
  },
  "language_info": {
   "codemirror_mode": {
    "name": "ipython",
    "version": 3
   },
   "file_extension": ".py",
   "mimetype": "text/x-python",
   "name": "python",
   "nbconvert_exporter": "python",
   "pygments_lexer": "ipython3",
   "version": "3.11.4"
  }
 },
 "nbformat": 4,
 "nbformat_minor": 2
}
