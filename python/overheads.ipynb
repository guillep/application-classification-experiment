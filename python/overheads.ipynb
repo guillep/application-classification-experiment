{
 "cells": [
  {
   "cell_type": "code",
   "execution_count": 2,
   "metadata": {},
   "outputs": [],
   "source": [
    "# To force reloading. Useful when editing python files\n",
    "%load_ext autoreload\n",
    "%autoreload 2\n",
    "%reload_ext autoreload\n",
    "\n",
    "from processor_new import *\n",
    "import seaborn as sns\n",
    "import numpy as np\n",
    "import matplotlib.pyplot as plt\n",
    "import matplotlib.gridspec as gridspec"
   ]
  },
  {
   "cell_type": "markdown",
   "metadata": {},
   "source": [
    "# Benchmarks "
   ]
  },
  {
   "cell_type": "markdown",
   "metadata": {},
   "source": [
    "# DataFrame"
   ]
  },
  {
   "cell_type": "code",
   "execution_count": 4,
   "metadata": {},
   "outputs": [
    {
     "name": "stdout",
     "output_type": "stream",
     "text": [
      "Sampling rate 1/1000. Median: 61140.0 Mean: 61130.0\n",
      "Sampling rate 1/100. Median: 58720.0 Mean: 58750.0\n",
      "Sampling rate 1/2. Median: 89520.0 Mean: 89673.0\n",
      "Sampling rate 1. Median: 125175.0 Mean: 125142.0\n",
      "No action profiler. Median: 56410.0 Mean: 56417.666666666664\n",
      "Baseline DF. Median: 54475.0 Mean: 54493.666666666664\n",
      "\n",
      "Overhead for the no action profiler: 1.0351661660988127\n",
      "Overhead for 1/1000: 1.1217817361038898\n",
      "Overhead for 1/100: 1.078106935974211\n",
      "Overhead for 1/2: 1.6455673748019648\n",
      "Overhead for 1: 2.296450352028676\n"
     ]
    }
   ],
   "source": [
    "illi_bench_hg = pd.read_csv('/Users/sebastian/Documents/PharoImages/illi-df-hg-clean/profiler-data/illiDFPlusHG.csv', comment='#', sep ='\\t')\n",
    "\n",
    "# Profiler median values\n",
    "illi_input_01_hg = illi_bench_hg[ (illi_bench_hg['suite'] == 'IllBenchmark') & (illi_bench_hg['inputSize'] == '1/1000') & (illi_bench_hg['criterion'] == 'total') ]\n",
    "illi_median_01 = illi_input_01_hg['value'].median()\n",
    "illi_mean_01 = illi_input_01_hg['value'].mean()\n",
    "\n",
    "illi_input_1_hg = illi_bench_hg[ (illi_bench_hg['suite'] == 'IllBenchmark') & (illi_bench_hg['inputSize'] == '1/100') & (illi_bench_hg['criterion'] == 'total') ]\n",
    "illi_median_1 = illi_input_1_hg['value'].median()\n",
    "illi_mean_1 = illi_input_1_hg['value'].mean()\n",
    "\n",
    "illi_input_50_hg = illi_bench_hg[ (illi_bench_hg['suite'] == 'IllBenchmark') & (illi_bench_hg['inputSize'] == '1/2') & (illi_bench_hg['criterion'] == 'total') ]\n",
    "illi_median_50 = illi_input_50_hg['value'].median()\n",
    "illi_mean_50 = illi_input_50_hg['value'].mean()\n",
    "\n",
    "illi_input_100_hg = illi_bench_hg[ (illi_bench_hg['suite'] == 'IllBenchmark') & (illi_bench_hg['inputSize'] == '1') & (illi_bench_hg['criterion'] == 'total') ]\n",
    "illi_median_100 = illi_input_100_hg['value'].median()\n",
    "illi_mean_100 = illi_input_100_hg['value'].mean()\n",
    "\n",
    "# no action profiler \n",
    "no_action_hg = illi_bench_hg[ (illi_bench_hg['suite'] == 'IllBenchmarkNoAction') & (illi_bench_hg['criterion'] == 'total') ]\n",
    "no_action_median = no_action_hg['value'].median()\n",
    "no_action_mean = no_action_hg['value'].mean()\n",
    "\n",
    "# baseline\n",
    "baseline_hg = illi_bench_hg[ (illi_bench_hg['suite'] == 'BaselineBenchmark') & (illi_bench_hg['criterion'] == 'total') ]\n",
    "baseline_median = baseline_hg['value'].median()\n",
    "baseline_mean = baseline_hg['value'].mean()\n",
    "\n",
    "\n",
    "\n",
    "print('Sampling rate 1/1000. Median: ' + str(illi_median_01) + ' Mean: ' + str(illi_mean_01))\n",
    "print('Sampling rate 1/100. Median: ' + str(illi_median_1) + ' Mean: ' + str(illi_mean_1))\n",
    "print('Sampling rate 1/2. Median: ' + str(illi_median_50) + ' Mean: ' + str(illi_mean_50))\n",
    "print('Sampling rate 1. Median: ' + str(illi_median_100) + ' Mean: ' + str(illi_mean_100))\n",
    "\n",
    "print('No action profiler. Median: ' + str(no_action_median) + ' Mean: ' + str(no_action_mean))\n",
    "print('Baseline DF. Median: ' + str(baseline_median) + ' Mean: ' + str(baseline_mean))\n",
    "\n",
    "# overhead using mean\n",
    "print()\n",
    "print('Overhead for the no action profiler: ' + str(no_action_median / baseline_mean))\n",
    "print('Overhead for 1/1000: ' + str(illi_mean_01 / baseline_mean))\n",
    "print('Overhead for 1/100: ' + str(illi_mean_1  / baseline_mean))\n",
    "print('Overhead for 1/2: ' + str(illi_mean_50  / baseline_mean))\n",
    "print('Overhead for 1: ' +  str(illi_mean_100  / baseline_mean))\n"
   ]
  },
  {
   "cell_type": "markdown",
   "metadata": {},
   "source": [
    "# Honey Ginger"
   ]
  },
  {
   "cell_type": "code",
   "execution_count": 3,
   "metadata": {},
   "outputs": [
    {
     "name": "stdout",
     "output_type": "stream",
     "text": [
      "Sampling rate 1/1000. Median: 43280.0 Mean: 43272.666666666664\n",
      "Sampling rate 1/100. Median: 53390.0 Mean: 53286.0\n",
      "Sampling rate 1/2. Median: 59340.0 Mean: 58979.333333333336\n",
      "Sampling rate 1. Median: 74990.0 Mean: 75586.33333333333\n",
      "Baseline HG. Median: 23740.0 Mean: 23659.0\n",
      "\n",
      "Overhead for 1/1000: 1.8290150330388717\n",
      "Overhead for 1/100: 2.25225072910943\n",
      "Overhead for 1/2: 2.492892063626245\n",
      "Overhead for 1: 3.1948236752750887\n"
     ]
    }
   ],
   "source": [
    "illi_bench_hg = pd.read_csv('/Users/sebastian/Documents/PharoImages/illi-df-hg-clean/profiler-data/illiDFPlusHG.csv', comment='#', sep ='\\t')\n",
    "\n",
    "# Profiler median values\n",
    "illi_input_01_hg = illi_bench_hg[ (illi_bench_hg['suite'] == 'IllBenchmarkHG') & (illi_bench_hg['inputSize'] == '1/1000') & (illi_bench_hg['criterion'] == 'total') ]\n",
    "illi_median_01 = illi_input_01_hg['value'].median()\n",
    "illi_mean_01 = illi_input_01_hg['value'].mean()\n",
    "\n",
    "illi_input_1_hg = illi_bench_hg[ (illi_bench_hg['suite'] == 'IllBenchmarkHG') & (illi_bench_hg['inputSize'] == '1/100') & (illi_bench_hg['criterion'] == 'total') ]\n",
    "illi_median_1 = illi_input_1_hg['value'].median()\n",
    "illi_mean_1 = illi_input_1_hg['value'].mean()\n",
    "\n",
    "illi_input_50_hg = illi_bench_hg[ (illi_bench_hg['suite'] == 'IllBenchmarkHG') & (illi_bench_hg['inputSize'] == '1/2') & (illi_bench_hg['criterion'] == 'total') ]\n",
    "illi_median_50 = illi_input_50_hg['value'].median()\n",
    "illi_mean_50 = illi_input_50_hg['value'].mean()\n",
    "\n",
    "illi_input_100_hg = illi_bench_hg[ (illi_bench_hg['suite'] == 'IllBenchmarkHG') & (illi_bench_hg['inputSize'] == '1') & (illi_bench_hg['criterion'] == 'total') ]\n",
    "illi_median_100 = illi_input_100_hg['value'].median()\n",
    "illi_mean_100 = illi_input_100_hg['value'].mean()\n",
    "\n",
    "# baseline\n",
    "baseline_hg = illi_bench_hg[ (illi_bench_hg['suite'] == 'BaselineBenchmarkHG') & (illi_bench_hg['criterion'] == 'total') ]\n",
    "baseline_median = baseline_hg['value'].median()\n",
    "baseline_mean = baseline_hg['value'].mean()\n",
    "\n",
    "\n",
    "\n",
    "print('Sampling rate 1/1000. Median: ' + str(illi_median_01) + ' Mean: ' + str(illi_mean_01))\n",
    "print('Sampling rate 1/100. Median: ' + str(illi_median_1) + ' Mean: ' + str(illi_mean_1))\n",
    "print('Sampling rate 1/2. Median: ' + str(illi_median_50) + ' Mean: ' + str(illi_mean_50))\n",
    "print('Sampling rate 1. Median: ' + str(illi_median_100) + ' Mean: ' + str(illi_mean_100))\n",
    "\n",
    "print('Baseline HG. Median: ' + str(baseline_median) + ' Mean: ' + str(baseline_mean))\n",
    "\n",
    "# overhead using mean\n",
    "print()\n",
    "print('Overhead for 1/1000: ' + str(illi_mean_01 / baseline_mean))\n",
    "print('Overhead for 1/100: ' + str(illi_mean_1  / baseline_mean))\n",
    "print('Overhead for 1/2: ' + str(illi_mean_50  / baseline_mean))\n",
    "print('Overhead for 1: ' +  str(illi_mean_100  / baseline_mean))\n"
   ]
  }
 ],
 "metadata": {
  "kernelspec": {
   "display_name": "Python 3 (ipykernel)",
   "language": "python",
   "name": "python3"
  },
  "language_info": {
   "codemirror_mode": {
    "name": "ipython",
    "version": 3
   },
   "file_extension": ".py",
   "mimetype": "text/x-python",
   "name": "python",
   "nbconvert_exporter": "python",
   "pygments_lexer": "ipython3",
   "version": "3.11.4"
  }
 },
 "nbformat": 4,
 "nbformat_minor": 2
}
