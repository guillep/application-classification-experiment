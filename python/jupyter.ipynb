{
 "cells": [
  {
   "cell_type": "code",
   "execution_count": 2,
   "metadata": {},
   "outputs": [],
   "source": [
    "from processor import *\n",
    "import seaborn as sns\n",
    "import numpy as np\n",
    "import matplotlib.pyplot as plt\n",
    "import matplotlib.gridspec as gridspec"
   ]
  },
  {
   "cell_type": "code",
   "execution_count": 32,
   "metadata": {},
   "outputs": [
    {
     "name": "stdout",
     "output_type": "stream",
     "text": [
      "ACTIONABLE 100\n",
      "\n",
      "Sampling rate: 100\n",
      "Total instances:  86000638\n",
      "Total execution time: 255.927144\n",
      "Total full GCs:  31\n",
      "Total scavenges:  1415\n",
      "----------\n",
      "Allocated object class    Instances    Avg lifetime    Avg GC cycles    Avg Scavenges\n",
      "------------------------  -----------  --------------  ---------------  ---------------\n",
      "Fraction                  27.91%       63.54%          13.9%            42.71%\n",
      "NumberParser              27.91%       63.54%          13.9%            42.71%\n",
      "ReadStream                27.91%       63.54%          13.9%            42.71%\n",
      "ByteString                13.95%       96.74%          79.23%           92.83%\n",
      "Array                     2.33%        96.74%          79.23%           92.82%\n",
      "\n"
     ]
    }
   ],
   "source": [
    "print_table_allocations_average_lifetimes('Actionable 100', df_100_a, metadata_df100_a)"
   ]
  },
  {
   "cell_type": "code",
   "execution_count": 11,
   "metadata": {},
   "outputs": [],
   "source": [
    "# Load actionable 50\n",
    "parent_directory = '/Users/sebastian/Documents/PharoImages/illimani-rebench/data/actionable/sampling-50/2024-02-15H21m00'\n",
    "csv_file = parent_directory + '.csv'\n",
    "metadata_file = parent_directory + '.json'\n",
    "# full_gcs_trace_file = parent_directory + '-full-gcs.csv'\n",
    "# scavenges_trace_file = parent_directory + '-scavenges.csv'\n",
    "\n",
    "df_50_a, metadata_df50_a = load_df(csv_file, metadata_file)"
   ]
  },
  {
   "cell_type": "code",
   "execution_count": 8,
   "metadata": {},
   "outputs": [
    {
     "name": "stdout",
     "output_type": "stream",
     "text": [
      "ACTIONABLE 50\n",
      "\n",
      "Sampling rate: 50\n",
      "Total instances:  43001750\n",
      "Total execution time: 109.754536\n",
      "Total full GCs:  27\n",
      "Total scavenges:  1201\n",
      "----------\n",
      "Allocated object class    Instances    Avg lifetime    Avg GC cycles    Avg Scavenges\n",
      "------------------------  -----------  --------------  ---------------  ---------------\n",
      "NumberParser              27.91%       47.01%          12.18%           40.96%\n",
      "Fraction                  27.91%       47.01%          12.18%           40.96%\n",
      "ReadStream                27.91%       46.07%          11.93%           40.14%\n",
      "ByteString                13.95%       92.5%           80.65%           91.55%\n",
      "Array                     2.33%        92.49%          80.64%           91.54%\n",
      "\n"
     ]
    }
   ],
   "source": [
    "print_table_allocations_average_lifetimes('Actionable 50', df_50_a, metadata_df50_a)"
   ]
  },
  {
   "cell_type": "code",
   "execution_count": 30,
   "metadata": {},
   "outputs": [
    {
     "name": "stdout",
     "output_type": "stream",
     "text": [
      "ACTIONABLE 1%\n",
      "\n",
      "Sampling rate: 1\n",
      "Total instances:  860004\n",
      "Total execution time: 52.485157\n",
      "Total full GCs:  18\n",
      "Total scavenges:  972\n",
      "----------\n",
      "Allocated object class    Instances    Avg lifetime    Avg GC cycles    Avg Scavenges\n",
      "------------------------  -----------  --------------  ---------------  ---------------\n",
      "Fraction                  27.91%       30.49%          5.56%            37.76%\n",
      "ReadStream                27.91%       30.49%          5.56%            37.76%\n",
      "NumberParser              27.91%       30.49%          5.56%            37.76%\n",
      "ByteString                13.95%       84.95%          77.48%           89.55%\n",
      "Array                     2.33%        84.95%          77.48%           89.55%\n",
      "\n"
     ]
    }
   ],
   "source": [
    "print_table_allocations_average_lifetimes('Actionable 1%', df_1_a, metadata_df1_a)"
   ]
  },
  {
   "cell_type": "markdown",
   "metadata": {},
   "source": [
    "# Benchmarks "
   ]
  },
  {
   "cell_type": "code",
   "execution_count": 24,
   "metadata": {},
   "outputs": [
    {
     "name": "stdout",
     "output_type": "stream",
     "text": [
      "53855.0\n",
      "82535.0\n",
      "126200.0\n"
     ]
    }
   ],
   "source": [
    "illi_bench_df = pd.read_csv('/Users/sebastian/Documents/PharoImages/illimani-rebench/illBenchmark.csv', comment='#', sep ='\\t')\n",
    "\n",
    "illi_input_1_df = illi_bench_df[ (illi_bench_df['suite'] == 'IllBenchmark') & (illi_bench_df['inputSize'] == 1) & (illi_bench_df['criterion'] == 'total') ]\n",
    "illi_median_1 = illi_input_1_df['value'].median()\n",
    "\n",
    "illi_input_50_df = illi_bench_df[ (illi_bench_df['suite'] == 'IllBenchmark') & (illi_bench_df['inputSize'] == 50) & (illi_bench_df['criterion'] == 'total') ]\n",
    "illi_median_50 = illi_input_50_df['value'].median()\n",
    "\n",
    "illi_input_100_df = illi_bench_df[ (illi_bench_df['suite'] == 'IllBenchmark') & (illi_bench_df['inputSize'] == 100) & (illi_bench_df['criterion'] == 'total') ]\n",
    "illi_median_100 = illi_input_100_df['value'].median()\n",
    "\n",
    "print(illi_median_1)\n",
    "print(illi_median_50)\n",
    "print(illi_median_100)"
   ]
  },
  {
   "cell_type": "code",
   "execution_count": 28,
   "metadata": {},
   "outputs": [
    {
     "name": "stdout",
     "output_type": "stream",
     "text": [
      "55185.0\n"
     ]
    }
   ],
   "source": [
    "# only df\n",
    "df_bench_df = pd.read_csv('/Users/sebastian/Documents/PharoImages/illimani-rebench/dfBenchmark.csv', comment='#', sep ='\\t')\n",
    "\n",
    "df_filtered_df = df_bench_df[ (df_bench_df['suite'] == 'DFBenchmark') & (df_bench_df['criterion'] == 'total') ]\n",
    "df_median = df_filtered_df['value'].median()\n",
    "print(df_median)"
   ]
  },
  {
   "cell_type": "code",
   "execution_count": 29,
   "metadata": {},
   "outputs": [
    {
     "name": "stdout",
     "output_type": "stream",
     "text": [
      "0.98x\n",
      "1.5x\n",
      "2.29x\n"
     ]
    }
   ],
   "source": [
    "xx = illi_median_1 / df_median\n",
    "xxx = illi_median_50 / df_median\n",
    "xxxx = illi_median_100 / df_median\n",
    "\n",
    "print(str(round(xx, 2)) + 'x')\n",
    "print(str(round(xxx, 2)) + 'x')\n",
    "print(str(round(xxxx, 2)) + 'x')"
   ]
  }
 ],
 "metadata": {
  "kernelspec": {
   "display_name": "Python 3 (ipykernel)",
   "language": "python",
   "name": "python3"
  },
  "language_info": {
   "codemirror_mode": {
    "name": "ipython",
    "version": 3
   },
   "file_extension": ".py",
   "mimetype": "text/x-python",
   "name": "python",
   "nbconvert_exporter": "python",
   "pygments_lexer": "ipython3",
   "version": "3.9.17"
  }
 },
 "nbformat": 4,
 "nbformat_minor": 2
}
