{
 "cells": [
  {
   "cell_type": "code",
   "execution_count": 12,
   "metadata": {
    "ExecuteTime": {
     "end_time": "2024-03-13T21:46:53.548899Z",
     "start_time": "2024-03-13T21:46:53.463728Z"
    }
   },
   "outputs": [
    {
     "name": "stdout",
     "output_type": "stream",
     "text": [
      "The autoreload extension is already loaded. To reload it, use:\n",
      "  %reload_ext autoreload\n"
     ]
    }
   ],
   "source": [
    "# To force reloading. Useful when editing python files\n",
    "%load_ext autoreload\n",
    "%autoreload 2\n",
    "%reload_ext autoreload\n",
    "\n",
    "from processor_new import *\n",
    "import seaborn as sns\n",
    "import numpy as np\n",
    "import matplotlib.pyplot as plt\n",
    "import matplotlib.gridspec as gridspec\n",
    "from plotting_moose import *"
   ]
  },
  {
   "cell_type": "code",
   "execution_count": 2,
   "metadata": {
    "ExecuteTime": {
     "end_time": "2024-03-13T21:44:10.420934Z",
     "start_time": "2024-03-13T21:41:41.590571Z"
    }
   },
   "outputs": [],
   "source": [
    "# Load profiler baseline\n",
    "base_path = '/Users/sebastian/Documents/PharoImages/illimani-moose/'\n",
    "\n",
    "# Load sampling 0.1%\n",
    "path = base_path + '2024-03-15H14m38'\n",
    "moose_df, metadata_moose_df = load_df(path)\n",
    "\n",
    "# most allocated classes\n",
    "top_allocated_classes = get_top_allocated_classes(moose_df)"
   ]
  },
  {
   "cell_type": "code",
   "execution_count": 13,
   "metadata": {},
   "outputs": [
    {
     "name": "stdout",
     "output_type": "stream",
     "text": [
      "\n",
      "\n",
      "Sampling rate: 1\n",
      "Total instances:  62052799\n",
      "Total execution time: 113.586432\n",
      "Total full GCs:  5\n",
      "Total scavenges:  786\n",
      "Total allocated memory:  2.8703816905617714  GiB\n",
      "----------\n",
      "Allocated object class    Instances    Avg lifetime    Avg GC cycles    Avg Scavenges    Allocated memory\n",
      "------------------------  -----------  --------------  ---------------  ---------------  ------------------\n",
      "ByteString                24.14%       3.58%           1.97%            3.38%            13.92%\n",
      "Array                     18.14%       24.76%          15.08%           22.65%           26.99%\n",
      "WideString                14.84%       0.09%           0.12%            0.25%            19.55%\n",
      "OrderedCollection         7.25%        14.34%          12.24%           13.79%           4.67%\n",
      "ReadStream                6.54%        0.09%           0.11%            0.25%            4.21%\n",
      "NumberParser              6.54%        0.09%           0.11%            0.25%            12.63%\n",
      "FMFutureProperty          6.42%        11.58%          9.54%            11.09%           4.13%\n",
      "FMSlotMultivalueLink      2.5%         57.79%          30.77%           52.01%           2.41%\n",
      "Association               2.31%        55.99%          34.72%           51.33%           1.11%\n",
      "SmallDictionary           1.72%        57.85%          30.81%           52.07%           1.11%\n",
      "FMFutureEntity            1.72%        31.07%          23.1%            29.1%            1.38%\n",
      "ValueLink                 1.72%        0.09%           0.11%            0.25%            0.83%\n",
      "FMDanglingReference       1.54%        48.0%           39.48%           45.43%           0.74%\n",
      "Set                       1.35%        0.25%           0.09%            0.29%            0.65%\n",
      "WriteStream               1.08%        0.12%           0.35%            0.25%            0.87%\n",
      "\n"
     ]
    }
   ],
   "source": [
    "print_table_allocations_average_lifetimes('', moose_df, metadata_moose_df)"
   ]
  },
  {
   "cell_type": "code",
   "execution_count": 4,
   "metadata": {
    "ExecuteTime": {
     "end_time": "2024-03-13T21:48:07.213918Z",
     "start_time": "2024-03-13T21:47:17.381010Z"
    }
   },
   "outputs": [
    {
     "data": {
      "text/plain": [
       "[Text(0.5, 0, 'Execution time'),\n",
       " Text(0.5, 1.0, 'Moose object lifetimes'),\n",
       " (0.0, 100.0)]"
      ]
     },
     "execution_count": 4,
     "metadata": {},
     "output_type": "execute_result"
    },
    {
     "data": {
      "image/png": "[encoded data removed]",
      "text/plain": [
       "<Figure size 640x480 with 1 Axes>"
      ]
     },
     "metadata": {},
     "output_type": "display_data"
    }
   ],
   "source": [
    "sns.histplot(moose_df['relativeLifetime'] , stat=\"percent\", bins=20).set(xlabel='Execution time', title='Moose object lifetimes', ylim=(0, 100))"
   ]
  },
  {
   "cell_type": "code",
   "execution_count": 14,
   "metadata": {},
   "outputs": [],
   "source": [
    "plot_lifetime_frequencies_by_class(moose_df, \"Lifetime frequencies by most-allocated classes\", top_allocated_classes, True)"
   ]
  }
 ],
 "metadata": {
  "kernelspec": {
   "display_name": "Python 3 (ipykernel)",
   "language": "python",
   "name": "python3"
  },
  "language_info": {
   "codemirror_mode": {
    "name": "ipython",
    "version": 3
   },
   "file_extension": ".py",
   "mimetype": "text/x-python",
   "name": "python",
   "nbconvert_exporter": "python",
   "pygments_lexer": "ipython3",
   "version": "3.11.4"
  }
 },
 "nbformat": 4,
 "nbformat_minor": 4
}
