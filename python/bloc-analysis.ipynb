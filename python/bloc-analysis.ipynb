{
 "cells": [
  {
   "cell_type": "code",
   "execution_count": 1,
   "metadata": {
    "ExecuteTime": {
     "end_time": "2024-03-13T21:46:53.548899Z",
     "start_time": "2024-03-13T21:46:53.463728Z"
    }
   },
   "outputs": [],
   "source": [
    "# To force reloading. Useful when editing python files\n",
    "%load_ext autoreload\n",
    "%autoreload 2\n",
    "%reload_ext autoreload\n",
    "\n",
    "from processor_new import *\n",
    "import seaborn as sns\n",
    "import numpy as np\n",
    "import matplotlib.pyplot as plt\n",
    "import matplotlib.gridspec as gridspec\n",
    "from plotting_moose import *"
   ]
  },
  {
   "cell_type": "code",
   "execution_count": 2,
   "metadata": {
    "ExecuteTime": {
     "end_time": "2024-03-13T21:44:10.420934Z",
     "start_time": "2024-03-13T21:41:41.590571Z"
    }
   },
   "outputs": [],
   "source": [
    "# Load profiler baseline\n",
    "base_path = '/Users/sebastian/Documents/PharoImages/illi-df-hg-clean/profiler-data/bloc/baseline/'\n",
    "\n",
    "# Load sampling 0.1%\n",
    "path = base_path + '0dot001'\n",
    "bloc_01, metadata_bloc01 = load_df(path)\n",
    "\n",
    "# Load sampling 1%\n",
    "path = base_path + '0dot01'\n",
    "bloc_1, metadata_bloc1 = load_df(path)\n",
    "\n",
    "# Load sampling 50%\n",
    "path = base_path + '0dot5'\n",
    "bloc_50, metadata_bloc50 = load_df(path)\n",
    "\n",
    "# Load sampling 100%\n",
    "path = base_path + '1'\n",
    "bloc_100, metadata_bloc100 = load_df(path)\n"
   ]
  },
  {
   "cell_type": "code",
   "execution_count": 4,
   "metadata": {},
   "outputs": [
    {
     "name": "stdout",
     "output_type": "stream",
     "text": [
      "2.9 $\\times$\n",
      "2.0 $\\times$\n",
      "1.02 $\\times$\n",
      "1.002 $\\times$\n"
     ]
    }
   ],
   "source": [
    "ephemeron_size = 80\n",
    "\n",
    "baseline_overhead = bloc_100['sizeInBytes'].sum()\n",
    "# add overhead according to the sampling rate\n",
    "zero_one = baseline_overhead + (bloc_01.shape[0] * ephemeron_size)\n",
    "one = baseline_overhead + (bloc_1.shape[0] * ephemeron_size)\n",
    "fifty = baseline_overhead + (bloc_50.shape[0] * ephemeron_size)\n",
    "one_hundred = baseline_overhead + (bloc_100.shape[0] * ephemeron_size)\n",
    "\n",
    "# make relative\n",
    "zero_one = zero_one / baseline_overhead\n",
    "one = one / baseline_overhead\n",
    "fifty = fifty / baseline_overhead\n",
    "one_hundred = one_hundred / baseline_overhead\n",
    "\n",
    "# round\n",
    "zero_one = round(zero_one, 3)\n",
    "one = round(one, 2)\n",
    "fifty = round(fifty, 2)\n",
    "one_hundred = round(one_hundred, 2)\n",
    "\n",
    "print(one_hundred, '$\\\\times$')\n",
    "print(fifty,  '$\\\\times$')\n",
    "print(one,  '$\\\\times$')\n",
    "print(zero_one,  '$\\\\times$')"
   ]
  },
  {
   "cell_type": "code",
   "execution_count": 6,
   "metadata": {},
   "outputs": [
    {
     "name": "stdout",
     "output_type": "stream",
     "text": [
      "\n",
      "\n",
      "Sampling rate: 1\n",
      "Total instances:  234315\n",
      "Total execution time: 11.35515\n",
      "Total full GCs:  1\n",
      "Total scavenges:  9\n",
      "Total allocated memory:  0.009179830551147461  GiB\n",
      "----------\n",
      "Allocated object class                           Instances    Avg lifetime    Avg GC cycles    Avg Scavenges    Allocated memory\n",
      "-----------------------------------------------  -----------  --------------  ---------------  ---------------  ------------------\n",
      "Array                                            40.55%       4.97%           0.0%             22.37%           59.14%\n",
      "BlChildrenSortedByElevation                      30.04%       5.22%           0.0%             22.0%            17.14%\n",
      "ByteString                                       4.43%        1.37%           0.0%             22.37%           2.95%\n",
      "OrderedCollection                                3.81%        2.92%           0.02%            23.65%           2.9%\n",
      "WriteStream                                      2.24%        3.83%           0.0%             22.08%           2.13%\n",
      "Duration                                         1.63%        5.35%           0.03%            22.25%           0.93%\n",
      "DateAndTime                                      1.63%        5.2%            0.0%             22.11%           1.55%\n",
      "BlVector2D                                       1.62%        5.09%           0.0%             22.03%           0.92%\n",
      "Association                                      1.26%        12.55%          0.0%             32.34%           0.72%\n",
      "ByteArray                                        1.18%        21.43%          0.0%             39.28%           1.99%\n",
      "ExternalAddress                                  1.13%        6.72%           0.0%             23.68%           0.43%\n",
      "Fraction                                         0.55%        4.33%           0.0%             22.03%           0.32%\n",
      "BlMatrix2D                                       0.44%        5.49%           0.0%             22.41%           0.59%\n",
      "Array2D                                          0.44%        5.1%            0.0%             22.03%           0.34%\n",
      "BlMatrixDecomposition2D                          0.44%        5.1%            0.0%             22.03%           0.42%\n",
      "Rectangle                                        0.43%        3.92%           0.0%             22.26%           0.24%\n",
      "Dictionary                                       0.4%         3.4%            0.0%             22.72%           0.23%\n",
      "Semaphore                                        0.38%        26.29%          0.0%             41.76%           0.29%\n",
      "BlPhysicalDisplaySize                            0.29%        5.25%           0.0%             22.14%           0.17%\n",
      "Delay                                            0.29%        5.56%           0.0%             22.29%           0.33%\n",
      "FileReference                                    0.27%        1.08%           0.0%             22.22%           0.15%\n",
      "AbsolutePath                                     0.27%        1.08%           0.0%             22.22%           0.47%\n",
      "Set                                              0.24%        19.68%          0.0%             36.38%           0.14%\n",
      "ReadStream                                       0.24%        1.31%           0.0%             22.2%            0.18%\n",
      "IdentityDictionary                               0.23%        17.56%          0.0%             37.0%            0.13%\n",
      "BlElementBoundsInLocal                           0.19%        4.09%           0.0%             22.07%           0.11%\n",
      "BlBounds                                         0.19%        4.09%           0.0%             22.07%           0.18%\n",
      "BlLogicalDisplaySize                             0.15%        5.06%           0.0%             22.03%           0.09%\n",
      "AeCairoMatrix                                    0.15%        5.35%           0.0%             22.25%           0.06%\n",
      "BlElementCachedExplicitTransformation            0.15%        5.57%           0.0%             22.51%           0.11%\n",
      "LinkedList                                       0.15%        5.36%           0.0%             22.25%           0.08%\n",
      "BlEventDispatcherChain                           0.15%        5.08%           0.0%             22.03%           0.08%\n",
      "BlSpaceEventsProcessedEvent                      0.15%        5.12%           0.0%             22.03%           0.25%\n",
      "BlAnimationStepEvent                             0.15%        5.1%            0.0%             22.03%           0.22%\n",
      "BlSpaceTasksEndEvent                             0.15%        5.13%           0.0%             22.06%           0.25%\n",
      "BlSpaceRenderEndEvent                            0.15%        5.25%           0.0%             22.0%            0.25%\n",
      "BlElementAbsoluteTransformation                  0.15%        5.34%           0.0%             22.29%           0.06%\n",
      "BlSpaceLayoutEndEvent                            0.15%        5.12%           0.0%             22.03%           0.25%\n",
      "BlParallelUniverseTryToRunDeferredActionsSignal  0.15%        5.07%           0.0%             22.03%           0.14%\n",
      "\n"
     ]
    }
   ],
   "source": [
    "print_table_allocations_average_lifetimes2('', bloc_100, metadata_bloc100)"
   ]
  },
  {
   "cell_type": "code",
   "execution_count": 7,
   "metadata": {},
   "outputs": [
    {
     "name": "stdout",
     "output_type": "stream",
     "text": [
      "Overall avg lifetime for 100% Sampling:  6.271906987811929\n",
      "Overall avg lifetime for 50% Sampling:  6.268724377231469\n",
      "Overall avg lifetime for 1% Sampling:  6.510760827437574\n",
      "Overall avg lifetime for 0.1% Sampling:  6.63231157701193\n"
     ]
    }
   ],
   "source": [
    "print('Overall avg lifetime for 100% Sampling: ', str(bloc_100['relativeLifetime'].mean()))\n",
    "print('Overall avg lifetime for 50% Sampling: ', str(bloc_50['relativeLifetime'].mean()))\n",
    "print('Overall avg lifetime for 1% Sampling: ', str(bloc_1['relativeLifetime'].mean()))\n",
    "print('Overall avg lifetime for 0.1% Sampling: ', str(bloc_01['relativeLifetime'].mean()))"
   ]
  },
  {
   "cell_type": "code",
   "execution_count": 10,
   "metadata": {},
   "outputs": [],
   "source": [
    "# Load profiler actionable\n",
    "base_path = '/Users/sebastian/Documents/PharoImages/illi-df-hg-clean/profiler-data/bloc/actionable/'\n",
    "\n",
    "# Load sampling 0.1%\n",
    "path = base_path + '0dot001'\n",
    "bloc_01_a, metadata_bloc01_a = load_df(path)\n",
    "\n",
    "# Load sampling 1%\n",
    "path = base_path + '0dot01'\n",
    "bloc_1_a, metadata_bloc1_a = load_df(path)\n",
    "\n",
    "# Load sampling 50%\n",
    "path = base_path + '0dot5'\n",
    "bloc_50_a, metadata_bloc50_a = load_df(path)\n",
    "\n",
    "# Load sampling 100%\n",
    "path = base_path + '1'\n",
    "bloc_100_a, metadata_bloc100_a = load_df(path)\n"
   ]
  },
  {
   "cell_type": "code",
   "execution_count": 11,
   "metadata": {},
   "outputs": [
    {
     "name": "stdout",
     "output_type": "stream",
     "text": [
      "Overall avg actionable lifetimes for 100% Sampling:  31.206399089320115\n",
      "Overall avg actionable lifetimes for 50% Sampling:  19.294723401887776\n",
      "Overall avg actionable lifetimes for 1% Sampling:  19.45291168949767\n",
      "Overall avg actionable lifetimes for 0.1% Sampling:  20.25866736944068\n"
     ]
    }
   ],
   "source": [
    "print('Overall avg actionable lifetimes for 100% Sampling: ', str(bloc_100_a['relativeLifetime'].mean()))\n",
    "print('Overall avg actionable lifetimes for 50% Sampling: ', str(bloc_50_a['relativeLifetime'].mean()))\n",
    "print('Overall avg actionable lifetimes for 1% Sampling: ', str(bloc_1_a['relativeLifetime'].mean()))\n",
    "print('Overall avg actionable lifetimes for 0.1% Sampling: ', str(bloc_01_a['relativeLifetime'].mean()))"
   ]
  }
 ],
 "metadata": {
  "kernelspec": {
   "display_name": "Python 3 (ipykernel)",
   "language": "python",
   "name": "python3"
  },
  "language_info": {
   "codemirror_mode": {
    "name": "ipython",
    "version": 3
   },
   "file_extension": ".py",
   "mimetype": "text/x-python",
   "name": "python",
   "nbconvert_exporter": "python",
   "pygments_lexer": "ipython3",
   "version": "3.11.4"
  }
 },
 "nbformat": 4,
 "nbformat_minor": 4
}
